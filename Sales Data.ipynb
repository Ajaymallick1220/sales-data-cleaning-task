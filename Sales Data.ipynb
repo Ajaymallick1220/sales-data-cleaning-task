{
 "cells": [
  {
   "cell_type": "markdown",
   "id": "da26f3d9",
   "metadata": {},
   "source": [
    "## Identify and Handle Missing Values"
   ]
  },
  {
   "cell_type": "code",
   "execution_count": 4,
   "id": "3aef2804",
   "metadata": {},
   "outputs": [],
   "source": [
    "import pandas as pd"
   ]
  },
  {
   "cell_type": "code",
   "execution_count": 44,
   "id": "336fedb7",
   "metadata": {},
   "outputs": [
    {
     "data": {
      "text/html": [
       "<div>\n",
       "<style scoped>\n",
       "    .dataframe tbody tr th:only-of-type {\n",
       "        vertical-align: middle;\n",
       "    }\n",
       "\n",
       "    .dataframe tbody tr th {\n",
       "        vertical-align: top;\n",
       "    }\n",
       "\n",
       "    .dataframe thead th {\n",
       "        text-align: right;\n",
       "    }\n",
       "</style>\n",
       "<table border=\"1\" class=\"dataframe\">\n",
       "  <thead>\n",
       "    <tr style=\"text-align: right;\">\n",
       "      <th></th>\n",
       "      <th>Customer Name</th>\n",
       "      <th>Gender</th>\n",
       "      <th>country</th>\n",
       "      <th>AGE</th>\n",
       "      <th>purchase date</th>\n",
       "      <th>Amount($)</th>\n",
       "    </tr>\n",
       "  </thead>\n",
       "  <tbody>\n",
       "    <tr>\n",
       "      <th>0</th>\n",
       "      <td>Allison Hill</td>\n",
       "      <td>female</td>\n",
       "      <td>US</td>\n",
       "      <td>NaN</td>\n",
       "      <td>1997-12-23</td>\n",
       "      <td>438.06</td>\n",
       "    </tr>\n",
       "    <tr>\n",
       "      <th>1</th>\n",
       "      <td>Noah Rhodes</td>\n",
       "      <td>m</td>\n",
       "      <td>United States</td>\n",
       "      <td>NaN</td>\n",
       "      <td>2001-10-12</td>\n",
       "      <td>394.41</td>\n",
       "    </tr>\n",
       "    <tr>\n",
       "      <th>2</th>\n",
       "      <td>Angie Henderson</td>\n",
       "      <td>Male</td>\n",
       "      <td>India</td>\n",
       "      <td>46.0</td>\n",
       "      <td>2019-08-13</td>\n",
       "      <td>317.61</td>\n",
       "    </tr>\n",
       "    <tr>\n",
       "      <th>3</th>\n",
       "      <td>Daniel Wagner</td>\n",
       "      <td>female</td>\n",
       "      <td>India</td>\n",
       "      <td>51.0</td>\n",
       "      <td>1973-09-08</td>\n",
       "      <td>915.02</td>\n",
       "    </tr>\n",
       "    <tr>\n",
       "      <th>4</th>\n",
       "      <td>Cristian Santos</td>\n",
       "      <td>female</td>\n",
       "      <td>usa</td>\n",
       "      <td>46.0</td>\n",
       "      <td>2015-10-28</td>\n",
       "      <td>975.63</td>\n",
       "    </tr>\n",
       "  </tbody>\n",
       "</table>\n",
       "</div>"
      ],
      "text/plain": [
       "     Customer Name   Gender        country    AGE purchase date  Amount($)\n",
       "0     Allison Hill   female             US    NaN    1997-12-23     438.06\n",
       "1      Noah Rhodes         m  United States   NaN    2001-10-12     394.41\n",
       "2  Angie Henderson      Male          India  46.0    2019-08-13     317.61\n",
       "3    Daniel Wagner   female           India  51.0    1973-09-08     915.02\n",
       "4  Cristian Santos   female             usa  46.0    2015-10-28     975.63"
      ]
     },
     "execution_count": 44,
     "metadata": {},
     "output_type": "execute_result"
    }
   ],
   "source": [
    "df = pd.read_csv('sales_data.csv')   # ← match exactly what you saw\n",
    "df.head(5)"
   ]
  },
  {
   "cell_type": "code",
   "execution_count": 46,
   "id": "b8a5c0a0",
   "metadata": {},
   "outputs": [
    {
     "data": {
      "text/plain": [
       "(53, 6)"
      ]
     },
     "execution_count": 46,
     "metadata": {},
     "output_type": "execute_result"
    }
   ],
   "source": [
    "df.shape"
   ]
  },
  {
   "cell_type": "code",
   "execution_count": 50,
   "id": "356bde89",
   "metadata": {},
   "outputs": [
    {
     "data": {
      "text/plain": [
       "Customer Name     0\n",
       " Gender           6\n",
       "country           7\n",
       "AGE              24\n",
       "purchase date    23\n",
       "Amount($)         0\n",
       "dtype: int64"
      ]
     },
     "execution_count": 50,
     "metadata": {},
     "output_type": "execute_result"
    }
   ],
   "source": [
    "df.isnull().sum()"
   ]
  },
  {
   "cell_type": "code",
   "execution_count": 71,
   "id": "c79ca4f6",
   "metadata": {},
   "outputs": [],
   "source": [
    "import pandas as pd\n",
    "\n",
    "df = pd.read_csv('sales_data.csv')\n",
    "\n",
    "# Clean column names\n",
    "df.columns = df.columns.str.strip().str.lower().str.replace(\" \", \"_\")\n",
    "\n",
    "# Now you can safely reference column names\n",
    "df['gender'] = df['gender'].fillna('Unknown')\n",
    "df['country'] = df['country'].fillna('Unknown')\n",
    "df['age'] = df['age'].fillna(df['age'].median())\n",
    "df = df.dropna(subset=['purchase_date'])\n"
   ]
  },
  {
   "cell_type": "code",
   "execution_count": 73,
   "id": "0c85965d",
   "metadata": {},
   "outputs": [
    {
     "name": "stdout",
     "output_type": "stream",
     "text": [
      "customer_name    0\n",
      "gender           0\n",
      "country          0\n",
      "age              0\n",
      "purchase_date    0\n",
      "amount($)        0\n",
      "dtype: int64\n"
     ]
    }
   ],
   "source": [
    "print(df.isnull().sum())\n"
   ]
  },
  {
   "cell_type": "markdown",
   "id": "dfdd28d7",
   "metadata": {},
   "source": [
    "## Analyse that the file has duplicate values or not"
   ]
  },
  {
   "cell_type": "code",
   "execution_count": 75,
   "id": "69f11ae4",
   "metadata": {},
   "outputs": [
    {
     "name": "stdout",
     "output_type": "stream",
     "text": [
      "Are there duplicate rows? False\n"
     ]
    }
   ],
   "source": [
    "has_duplicates = df.duplicated().any()\n",
    "print(\"Are there duplicate rows?\", has_duplicates)\n"
   ]
  },
  {
   "cell_type": "markdown",
   "id": "8cf9a789",
   "metadata": {},
   "source": [
    "the file has no duplicate values\n",
    "\n"
   ]
  },
  {
   "cell_type": "markdown",
   "id": "0660e458",
   "metadata": {},
   "source": [
    "## Standardizing Gender "
   ]
  },
  {
   "cell_type": "code",
   "execution_count": 76,
   "id": "38e650e0",
   "metadata": {},
   "outputs": [],
   "source": [
    "df['gender'] = df['gender'].str.strip().str.lower()"
   ]
  },
  {
   "cell_type": "code",
   "execution_count": 77,
   "id": "4cc6b6db",
   "metadata": {},
   "outputs": [],
   "source": [
    "# Standardize gender\n",
    "gender_map = {\n",
    "    'm': 'male',\n",
    "    'male': 'male',\n",
    "    'f': 'female',\n",
    "    'female': 'female',\n",
    "    'unknown': 'unknown',\n",
    "    'na': 'unknown',\n",
    "    'n/a': 'unknown'\n",
    "}\n",
    "df['gender'] = df['gender'].map(gender_map).fillna('unknown')"
   ]
  },
  {
   "cell_type": "code",
   "execution_count": 78,
   "id": "0d0bbcba",
   "metadata": {},
   "outputs": [
    {
     "name": "stdout",
     "output_type": "stream",
     "text": [
      "     customer_name  gender        country   age purchase_date  amount($)\n",
      "0     Allison Hill  female            US   44.0    1997-12-23     438.06\n",
      "1      Noah Rhodes    male  United States  44.0    2001-10-12     394.41\n",
      "2  Angie Henderson    male          India  46.0    2019-08-13     317.61\n",
      "3    Daniel Wagner  female          India  51.0    1973-09-08     915.02\n",
      "4  Cristian Santos  female            usa  46.0    2015-10-28     975.63\n",
      "5  Connie Lawrence  female             in  44.0    2014-06-20     865.76\n",
      "6  Abigail Shaffer  female  United States  33.0    2013-12-21     400.71\n",
      "7       Gina Moore    male          India  32.0    1976-09-12     762.70\n",
      "8  Gabrielle Davis  female          India  22.0    1974-02-15     393.49\n",
      "9       Ryan Munoz  female            US   39.0    1997-05-26     902.13\n"
     ]
    }
   ],
   "source": [
    "print(df.head(10))\n"
   ]
  },
  {
   "cell_type": "markdown",
   "id": "777db80f",
   "metadata": {},
   "source": [
    "## Standardizing country "
   ]
  },
  {
   "cell_type": "code",
   "execution_count": 79,
   "id": "834f547b",
   "metadata": {},
   "outputs": [],
   "source": [
    "df['country'] = df['country'].str.strip().str.lower()"
   ]
  },
  {
   "cell_type": "code",
   "execution_count": 82,
   "id": "253c4bc4",
   "metadata": {},
   "outputs": [],
   "source": [
    "# Standardize country\n",
    "country_map = {\n",
    "    'usa': 'United States',\n",
    "    'us': 'United States',\n",
    "    'u.s.': 'United States',\n",
    "    'united states': 'United States',\n",
    "    'uk': 'United Kingdom',\n",
    "    'england': 'United Kingdom',\n",
    "    'india': 'India',\n",
    "    'bharat': 'India',\n",
    "    'unknown': 'unknown',\n",
    "    'n/a': 'unknown'\n",
    "}\n",
    "df['country'] = df['country'].map(country_map).fillna('unknown')"
   ]
  },
  {
   "cell_type": "code",
   "execution_count": 86,
   "id": "a4715d01",
   "metadata": {},
   "outputs": [
    {
     "name": "stdout",
     "output_type": "stream",
     "text": [
      "     customer_name  gender        country   age purchase_date  amount($)\n",
      "0     Allison Hill  Female  United States  44.0    1997-12-23     438.06\n",
      "1      Noah Rhodes    Male  United States  44.0    2001-10-12     394.41\n",
      "2  Angie Henderson    Male          India  46.0    2019-08-13     317.61\n",
      "3    Daniel Wagner  Female          India  51.0    1973-09-08     915.02\n",
      "4  Cristian Santos  Female  United States  46.0    2015-10-28     975.63\n",
      "5  Connie Lawrence  Female        Unknown  44.0    2014-06-20     865.76\n",
      "6  Abigail Shaffer  Female  United States  33.0    2013-12-21     400.71\n",
      "7       Gina Moore    Male          India  32.0    1976-09-12     762.70\n",
      "8  Gabrielle Davis  Female          India  22.0    1974-02-15     393.49\n",
      "9       Ryan Munoz  Female  United States  39.0    1997-05-26     902.13\n"
     ]
    }
   ],
   "source": [
    "print(df.head(10))\n"
   ]
  },
  {
   "cell_type": "markdown",
   "id": "15217eb0",
   "metadata": {},
   "source": [
    "## Convert date to a consistent type"
   ]
  },
  {
   "cell_type": "code",
   "execution_count": 88,
   "id": "955a17b7",
   "metadata": {},
   "outputs": [
    {
     "name": "stdout",
     "output_type": "stream",
     "text": [
      "  purchase_date\n",
      "0    23-12-1997\n",
      "1    12-10-2001\n",
      "2    13-08-2019\n",
      "3    08-09-1973\n",
      "4    28-10-2015\n"
     ]
    }
   ],
   "source": [
    "# Clean column names\n",
    "df.columns = df.columns.str.strip().str.lower().str.replace(\" \", \"_\").str.replace(\"($)\", \"\", regex=True)\n",
    "\n",
    "# Convert purchase_date to datetime format\n",
    "df['purchase_date'] = pd.to_datetime(df['purchase_date'], errors='coerce', dayfirst=True)\n",
    "\n",
    "# Convert datetime to consistent string format: dd-mm-yyyy\n",
    "df['purchase_date'] = df['purchase_date'].dt.strftime('%d-%m-%Y')\n",
    "\n",
    "# Confirm changes\n",
    "print(df[['purchase_date']].head(5))\n"
   ]
  },
  {
   "cell_type": "code",
   "execution_count": 89,
   "id": "6532fb58",
   "metadata": {},
   "outputs": [
    {
     "name": "stdout",
     "output_type": "stream",
     "text": [
      "     customer_name  gender        country   age purchase_date  amount($)\n",
      "0     Allison Hill  Female  United States  44.0    23-12-1997     438.06\n",
      "1      Noah Rhodes    Male  United States  44.0    12-10-2001     394.41\n",
      "2  Angie Henderson    Male          India  46.0    13-08-2019     317.61\n",
      "3    Daniel Wagner  Female          India  51.0    08-09-1973     915.02\n",
      "4  Cristian Santos  Female  United States  46.0    28-10-2015     975.63\n",
      "5  Connie Lawrence  Female        Unknown  44.0    20-06-2014     865.76\n",
      "6  Abigail Shaffer  Female  United States  33.0    21-12-2013     400.71\n",
      "7       Gina Moore    Male          India  32.0    12-09-1976     762.70\n",
      "8  Gabrielle Davis  Female          India  22.0    15-02-1974     393.49\n",
      "9       Ryan Munoz  Female  United States  39.0    26-05-1997     902.13\n"
     ]
    }
   ],
   "source": [
    "print(df.head(10))"
   ]
  },
  {
   "cell_type": "markdown",
   "id": "75e3c8ae",
   "metadata": {},
   "source": [
    "## Rename column headers "
   ]
  },
  {
   "cell_type": "code",
   "execution_count": 99,
   "id": "b2625263",
   "metadata": {},
   "outputs": [],
   "source": [
    "# Rename columns to Title Case (First letter uppercase, rest lowercase)\n",
    "df.columns = [col.strip().title() for col in df.columns]\n"
   ]
  },
  {
   "cell_type": "code",
   "execution_count": 100,
   "metadata": {},
   "outputs": [
    {
     "name": "stdout",
     "output_type": "stream",
     "text": [
      "     Customer_Name  Gender        Country   Age Purchase_Date  Amount($)\n",
      "0     Allison Hill  Female  United States  44.0    23-12-1997     438.06\n",
      "1      Noah Rhodes    Male  United States  44.0    12-10-2001     394.41\n",
      "2  Angie Henderson    Male          India  46.0    13-08-2019     317.61\n",
      "3    Daniel Wagner  Female          India  51.0    08-09-1973     915.02\n",
      "4  Cristian Santos  Female  United States  46.0    28-10-2015     975.63\n",
      "5  Connie Lawrence  Female        Unknown  44.0    20-06-2014     865.76\n",
      "6  Abigail Shaffer  Female  United States  33.0    21-12-2013     400.71\n",
      "7       Gina Moore    Male          India  32.0    12-09-1976     762.70\n",
      "8  Gabrielle Davis  Female          India  22.0    15-02-1974     393.49\n",
      "9       Ryan Munoz  Female  United States  39.0    26-05-1997     902.13\n"
     ]
    }
   ],
   "source": [
    "print(df.head(10))"
   ]
  },
  {
   "cell_type": "markdown",
   "id": "3a12c243",
   "metadata": {},
   "source": [
    "## Check and fix data types"
   ]
  },
  {
   "cell_type": "code",
   "execution_count": 101,
   "id": "a7027e44",
   "metadata": {},
   "outputs": [
    {
     "name": "stdout",
     "output_type": "stream",
     "text": [
      "Customer_Name     object\n",
      "Gender            object\n",
      "Country           object\n",
      "Age              float64\n",
      "Purchase_Date     object\n",
      "Amount($)        float64\n",
      "dtype: object\n"
     ]
    }
   ],
   "source": [
    "print(df.dtypes)\n"
   ]
  },
  {
   "cell_type": "code",
   "execution_count": 103,
   "id": "8a0d3be4",
   "metadata": {},
   "outputs": [],
   "source": [
    "# Convert Age to integer (handle missing or invalid entries)\n",
    "df['Age'] = pd.to_numeric(df['Age'], errors='coerce').astype('Int64')  # Allows null values\n",
    "\n",
    "# Convert Purchase Date to datetime\n",
    "df['Purchase_Date'] = pd.to_datetime(df['Purchase_Date'], errors='coerce', dayfirst=True)\n"
   ]
  },
  {
   "cell_type": "code",
   "execution_count": 105,
   "id": "f6223616",
   "metadata": {},
   "outputs": [
    {
     "name": "stdout",
     "output_type": "stream",
     "text": [
      "Customer_Name            object\n",
      "Gender                   object\n",
      "Country                  object\n",
      "Age                       Int64\n",
      "Purchase_Date    datetime64[ns]\n",
      "Amount($)               float64\n",
      "dtype: object\n",
      "   Age Purchase_Date\n",
      "0   44    1997-12-23\n",
      "1   44    2001-10-12\n",
      "2   46    2019-08-13\n",
      "3   51    1973-09-08\n",
      "4   46    2015-10-28\n"
     ]
    }
   ],
   "source": [
    "print(df.dtypes)\n",
    "print(df[['Age', 'Purchase_Date']].head())\n"
   ]
  },
  {
   "cell_type": "code",
   "execution_count": 106,
   "id": "57f3956c",
   "metadata": {},
   "outputs": [],
   "source": [
    "df.to_csv(\"sales_data_cleaned.csv\", index=False)\n"
   ]
  }
 ],
 "metadata": {
  "kernelspec": {
   "display_name": "venv",
   "language": "python",
   "name": "python3"
  },
  "language_info": {
   "codemirror_mode": {
    "name": "ipython",
    "version": 3
   },
   "file_extension": ".py",
   "mimetype": "text/x-python",
   "name": "python",
   "nbconvert_exporter": "python",
   "pygments_lexer": "ipython3",
   "version": "3.13.0"
  }
 },
 "nbformat": 4,
 "nbformat_minor": 5
}
